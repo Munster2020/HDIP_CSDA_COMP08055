{
 "cells": [
  {
   "cell_type": "markdown",
   "metadata": {
    "ExecuteTime": {
     "end_time": "2021-10-19T18:52:35.034232Z",
     "start_time": "2021-10-19T18:52:35.015284Z"
    }
   },
   "source": [
    "![](images/GMIT_Logo.jpg)\n",
    "\n",
    "# Higher Diploma in Science in Computing (Data Analytics)\n",
    "### Programme Module: Machine Learning and Statistics (COMP08055) - Winter 21/22\n",
    "---\n",
    "## Scikit-Learn Jupyter Notebook\n"
   ]
  },
  {
   "cell_type": "markdown",
   "metadata": {},
   "source": [
    "## References"
   ]
  },
  {
   "cell_type": "markdown",
   "metadata": {},
   "source": [
    "[1] Colab.research.google.com.2021. *Introducing Scikit-Learn.* [online] Available at <https://colab.research.google.com /github/jakevdp/PythonDataScienceHandbook>. [Accessed 20 October 2021]."
   ]
  },
  {
   "cell_type": "markdown",
   "metadata": {},
   "source": [
    "[2] Joly,A. and Louppe,G., 2012.*Scikit-Learn: Machine Learning in the Python Ecosystem.* [online]Available at: <https://pdfs.semanticscholar.org/2013/03376169461677c506390ad53c57b0ff6eab.pdf> [Accessed 20 October 2021]."
   ]
  },
  {
   "cell_type": "markdown",
   "metadata": {},
   "source": [
    "[3] scikit-learn. 2021. *An introduction to machine learning with scikit-learn.* [online] Available at: <https://scikit-learn.org/stable/tutorial/basic/tutorial.html> [Accessed 20 October 2021]."
   ]
  },
  {
   "cell_type": "markdown",
   "metadata": {},
   "source": [
    "[4] Pedregosa,F., Varoquaux,G. and Gramfort,G., 2021. *Scikit-learn: Machine Learning in Python.* [online] ResearchGate. Available at: <https://www.researchgate.net/publication/51969319_Scikit-learn_Machine_Learning_in_Python> [Accessed 20 October 2021]."
   ]
  },
  {
   "cell_type": "markdown",
   "metadata": {},
   "source": [
    "[5] Corrado, C., 2021. *Scikit Learn: Machine Learning in Python.* [online] Pdfs.semanticscholar.org. Available at: <https://pdfs.semanticscholar.org/168f/28ac3c8c7ea63bf7ed25f2288e8b67e2fe74.pdf> [Accessed 20 October 2021]."
   ]
  },
  {
   "cell_type": "markdown",
   "metadata": {},
   "source": [
    "[6] Brownlee, J., 2016. *Introduction to Machine Learning with scikit-learn.* [online] Machine Learning Mastery. Available at: <https://machinelearningmastery.com/introduction-machine-learning-scikit-learn/> [Accessed 20 October 2021]."
   ]
  },
  {
   "cell_type": "markdown",
   "metadata": {},
   "source": [
    "[7] Intellipaat Blog. 2021. Scikit - *Learn Cheat Sheet: Python Machine Learning.* [online] Available at: <https://intellipaat.com/blog/tutorial/python-tutorial/scikit-learn-cheat-sheet/> [Accessed 20 October 2021]."
   ]
  },
  {
   "cell_type": "markdown",
   "metadata": {},
   "source": [
    "[8] Varoquaux, G. and Louppe, L., 2015. Scikit-learn: Machine Learning Without Learning the Machinery. [online] Researchgate. Available at: <https://www.researchgate.net/publication/316029838_Scikit-learn_Machine_Learning_Without_Learning_the_Machinery> [Accessed 20 October 2021]."
   ]
  },
  {
   "cell_type": "markdown",
   "metadata": {},
   "source": [
    "[9] Turgay, G., 2020. *Comparing Classification Models for Wine Quality Prediction.* [online] Medium. Available at: <https://towardsdatascience.com/comparing-classification-models-for-wine-quality-prediction-6c5f26669a4f> [Accessed 20 October 2021]."
   ]
  },
  {
   "cell_type": "markdown",
   "metadata": {},
   "source": [
    "[10] Azeem, A., 2020. *Easy KNN algorithm using scikit-learn.* [online] Medium. Available at: <https://medium.com/analytics-vidhya/easy-knn-algorithm-using-scikit-learn-7f6e256c9453> [Accessed 20 October 2021]."
   ]
  },
  {
   "cell_type": "markdown",
   "metadata": {},
   "source": [
    "[11] ActiveState. 2021. *What is Scikit-Learn In Python? - ActiveState.* [online] Available at: <https://www.activestate.com/resources/quick-reads/what-is-scikit-learn-in-python/> [Accessed 20 October 2021]."
   ]
  },
  {
   "cell_type": "markdown",
   "metadata": {},
   "source": [
    "[12] Rojo, O., 2020. *Machine Learning Algorithns With Scikit-Learn.* [online] Medium. Available at: <https://medium.com/swlh/machine-learning-algorithns-with-scikit-learn-ec6181365ba> [Accessed 20 October 2021]."
   ]
  },
  {
   "cell_type": "markdown",
   "metadata": {},
   "source": [
    "[13] Robinson, S., 2018. *Decision Trees in Python with Scikit-Learn.* [online] Stack Abuse. Available at: <https://stackabuse.com/decision-trees-in-python-with-scikit-learn/> [Accessed 20 October 2021]."
   ]
  },
  {
   "cell_type": "markdown",
   "metadata": {},
   "source": [
    "[14] Sarr, M., 2021. *How to use Scikit learn in a Machine Learning Project?* [Tutorial for Beginner]. [online] Malick Sarr. Available at: <https://www.malicksarr.com/how-to-use-scikit-learn-in-a-machine-learning-project-for-beginner-sklearn-tutorial/> [Accessed 20 October 2021]."
   ]
  }
 ],
 "metadata": {
  "kernelspec": {
   "display_name": "Python 3",
   "language": "python",
   "name": "python3"
  },
  "language_info": {
   "codemirror_mode": {
    "name": "ipython",
    "version": 3
   },
   "file_extension": ".py",
   "mimetype": "text/x-python",
   "name": "python",
   "nbconvert_exporter": "python",
   "pygments_lexer": "ipython3",
   "version": "3.8.3"
  },
  "toc": {
   "base_numbering": 1,
   "nav_menu": {},
   "number_sections": false,
   "sideBar": true,
   "skip_h1_title": false,
   "title_cell": "Table of Contents",
   "title_sidebar": "Contents",
   "toc_cell": false,
   "toc_position": {},
   "toc_section_display": true,
   "toc_window_display": false
  }
 },
 "nbformat": 4,
 "nbformat_minor": 4
}
