{
 "cells": [
  {
   "cell_type": "markdown",
   "metadata": {
    "ExecuteTime": {
     "end_time": "2021-10-19T18:52:35.034232Z",
     "start_time": "2021-10-19T18:52:35.015284Z"
    }
   },
   "source": [
    "![](images/GMIT_Logo.jpg)\n",
    "\n",
    "# Higher Diploma in Science in Computing (Data Analytics)\n",
    "### Programme Module: Machine Learning and Statistics (COMP08055) - Winter 21/22\n",
    "---\n",
    "## Scikit-Learn Jupyter Notebook\n"
   ]
  },
  {
   "cell_type": "markdown",
   "metadata": {},
   "source": [
    "Machine Learning is a widespread development that intersects statistics and computer science and looks at extracting rules from data, most often to make a decision on new data . While it benefits an array of data-related applications, its technical literature and complex algorithms have meant the uptake of machine learning while growing is probably not at the pace it should be. [8]\n",
    "\n",
    "To bring about change, in stepped Scikit-learn to alter the dynamic.  David Cournapeau and Matthieu Brucher's research conducted as part of their PhD thesis wrote code that laid the foundations of Scikit-learn. Then in 2010, the Parietal team from INRIA (National Institute for Research in Computer Science and Automation)  took over the project. In 2011 the first sprint occurred with an international audience and significant funding from Google; it is now a worldwide open-source endeavour encompassing over 200 countries. [8]\n",
    "\n",
    "Scikit-learn or SK-Learn is a Python module that integrates many machine learning algorithms that cover both supervised and unsupervised problems that users may encounter in academia or industry (Spotify, Evernote, Phimeca). [2]\n",
    "In supervised learning, the data comes with additional attributes that we want to predict. [3] To facilitate this, Scikit-learn offers linear models (ridge, lasso, elastic net, etc.), ensemble methods (random forests, bagging, boosting) and support vector machines. The aim of unsupervised learning in which the training data consists of a set of input vectors x without any corresponding target values is to analyse through clustering (K Means, Ward), matrix decomposition (PCA, ICA) and outlier detection. [2]\n",
    "\n",
    "The module was designed to be easy to use with high-performance levels and supported by a wider user group and detailed documentation. [4] As well as those mentioned above, it also wanted to provide a unified and straightforward API. Arnaud Jolly states, \"all objects in Scikit-Learn share a uniform and limited API consisting of three complementary interfaces: (i) an estimator interface for building and fitting models (ii) a predictor interface for making predictions and (iii) a transformer interface for converting data”. [2] All of them takes as input data which is structured as NumPy arrays of Scipy sparse matrices\".  Its general-purpose, high-level language brought machine learning to both experts and non-experts. It is primarily written in Python; however, it also uses C++ libraries LibSum and LibLinear. \n",
    "\n",
    "Scikit-learn relies heavily on three other Python libraries, NumPy, SciPy and Cython. NumPy provides the base date structure used for data and model parameters via NumPy arrays and provides elementary arithmetic operations. SciPy, another Python library, provides \"efficient algorithms for linear algebra, sparse matrix representation, special functions and basic statistical functions\". Cython provides C in Python to reach the performance of compiled languages.\n",
    "\n",
    "Features [15]\n",
    "\n",
    "Supervised learning algorithms: Contains a host of supervised learning algorithms such as generalized linear models including Linear regression, Decision Trees, Support Vector Machines, and Bayesian methods. \n",
    "\n",
    "Unsupervised learning algorithms: Including factoring, cluster analysis, principal component analysis, and unsupervised neural networks.\n",
    "\n",
    "Feature extraction: extracting features from text and images.\n",
    "\n",
    "Cross-validation: The accuracy and validity of supervised models on unseen data can be checked.\n",
    "\n",
    "Dimensionality Reduction: The number of attributes in data can be reduced for subsequent visualization, summarization, and feature selection.\n",
    "\n",
    "Clustering: Grouping of unlabeled data.\n",
    "\n",
    "Ensemble methods: Prediction of several supervised models can be combined.\n",
    "\n",
    "Pros and Cons\n",
    "\n",
    "Pros:\n",
    "Distributed under the BSD license, making it free with minimum legal and licensing restrictions.\n",
    "Ease of use.\n",
    "Versatile and serves real-world purposes such as the prediction of consumer behaviour or the creation of neuroimages, etc.\n",
    "Supported by a vast international online community.\n",
    "Scikit-learn provides detailed API support documentation for users who want to integrate the algorithms with their platforms.\n",
    "\n",
    "Con:\n",
    "•\tNot suitable for in-depth learning.\n",
    "\n",
    "\n"
   ]
  },
  {
   "cell_type": "markdown",
   "metadata": {},
   "source": [
    "## Wine Classification"
   ]
  },
  {
   "cell_type": "code",
   "execution_count": 4,
   "metadata": {
    "ExecuteTime": {
     "end_time": "2021-10-27T18:02:42.518886Z",
     "start_time": "2021-10-27T18:02:39.529546Z"
    }
   },
   "outputs": [],
   "source": [
    "# For importing and data manipulation.\n",
    "import pandas as pd\n",
    "\n",
    "# For simulating synthetic dataset.\n",
    "import numpy as np\n",
    "\n",
    "# Matplotlib forms basis for visualisation in Python.\n",
    "import matplotlib.pyplot as plt\n",
    "\n",
    "# Use the Seaborn library for visualisation.\n",
    "import seaborn as sns\n",
    "\n",
    "# Used to estmate probable distributions\n",
    "from scipy import stats\n",
    "\n",
    "# Graphics in retina format are more sharp and legible.\n",
    "%config InlineBackend.figure_format = 'retina'\n",
    "\n",
    "# Sets the backend of matplotlib to the 'inline' backend.\n",
    "%matplotlib inline"
   ]
  },
  {
   "cell_type": "code",
   "execution_count": 5,
   "metadata": {
    "ExecuteTime": {
     "end_time": "2021-10-27T18:02:44.555050Z",
     "start_time": "2021-10-27T18:02:44.249543Z"
    }
   },
   "outputs": [
    {
     "ename": "FileNotFoundError",
     "evalue": "[Errno 2] File winequality-white.csv does not exist: 'winequality-white.csv'",
     "output_type": "error",
     "traceback": [
      "\u001b[1;31m---------------------------------------------------------------------------\u001b[0m",
      "\u001b[1;31mFileNotFoundError\u001b[0m                         Traceback (most recent call last)",
      "\u001b[1;32m<ipython-input-5-6057ed3f532d>\u001b[0m in \u001b[0;36m<module>\u001b[1;34m\u001b[0m\n\u001b[1;32m----> 1\u001b[1;33m \u001b[0mdf\u001b[0m \u001b[1;33m=\u001b[0m \u001b[0mpd\u001b[0m\u001b[1;33m.\u001b[0m\u001b[0mread_csv\u001b[0m\u001b[1;33m(\u001b[0m\u001b[1;34m'winequality-white.csv'\u001b[0m\u001b[1;33m,\u001b[0m \u001b[0mdelimiter\u001b[0m\u001b[1;33m=\u001b[0m\u001b[1;34m','\u001b[0m\u001b[1;33m)\u001b[0m\u001b[1;33m\u001b[0m\u001b[1;33m\u001b[0m\u001b[0m\n\u001b[0m",
      "\u001b[1;32m~\\anaconda3\\lib\\site-packages\\pandas\\io\\parsers.py\u001b[0m in \u001b[0;36mparser_f\u001b[1;34m(filepath_or_buffer, sep, delimiter, header, names, index_col, usecols, squeeze, prefix, mangle_dupe_cols, dtype, engine, converters, true_values, false_values, skipinitialspace, skiprows, skipfooter, nrows, na_values, keep_default_na, na_filter, verbose, skip_blank_lines, parse_dates, infer_datetime_format, keep_date_col, date_parser, dayfirst, cache_dates, iterator, chunksize, compression, thousands, decimal, lineterminator, quotechar, quoting, doublequote, escapechar, comment, encoding, dialect, error_bad_lines, warn_bad_lines, delim_whitespace, low_memory, memory_map, float_precision)\u001b[0m\n\u001b[0;32m    674\u001b[0m         )\n\u001b[0;32m    675\u001b[0m \u001b[1;33m\u001b[0m\u001b[0m\n\u001b[1;32m--> 676\u001b[1;33m         \u001b[1;32mreturn\u001b[0m \u001b[0m_read\u001b[0m\u001b[1;33m(\u001b[0m\u001b[0mfilepath_or_buffer\u001b[0m\u001b[1;33m,\u001b[0m \u001b[0mkwds\u001b[0m\u001b[1;33m)\u001b[0m\u001b[1;33m\u001b[0m\u001b[1;33m\u001b[0m\u001b[0m\n\u001b[0m\u001b[0;32m    677\u001b[0m \u001b[1;33m\u001b[0m\u001b[0m\n\u001b[0;32m    678\u001b[0m     \u001b[0mparser_f\u001b[0m\u001b[1;33m.\u001b[0m\u001b[0m__name__\u001b[0m \u001b[1;33m=\u001b[0m \u001b[0mname\u001b[0m\u001b[1;33m\u001b[0m\u001b[1;33m\u001b[0m\u001b[0m\n",
      "\u001b[1;32m~\\anaconda3\\lib\\site-packages\\pandas\\io\\parsers.py\u001b[0m in \u001b[0;36m_read\u001b[1;34m(filepath_or_buffer, kwds)\u001b[0m\n\u001b[0;32m    446\u001b[0m \u001b[1;33m\u001b[0m\u001b[0m\n\u001b[0;32m    447\u001b[0m     \u001b[1;31m# Create the parser.\u001b[0m\u001b[1;33m\u001b[0m\u001b[1;33m\u001b[0m\u001b[1;33m\u001b[0m\u001b[0m\n\u001b[1;32m--> 448\u001b[1;33m     \u001b[0mparser\u001b[0m \u001b[1;33m=\u001b[0m \u001b[0mTextFileReader\u001b[0m\u001b[1;33m(\u001b[0m\u001b[0mfp_or_buf\u001b[0m\u001b[1;33m,\u001b[0m \u001b[1;33m**\u001b[0m\u001b[0mkwds\u001b[0m\u001b[1;33m)\u001b[0m\u001b[1;33m\u001b[0m\u001b[1;33m\u001b[0m\u001b[0m\n\u001b[0m\u001b[0;32m    449\u001b[0m \u001b[1;33m\u001b[0m\u001b[0m\n\u001b[0;32m    450\u001b[0m     \u001b[1;32mif\u001b[0m \u001b[0mchunksize\u001b[0m \u001b[1;32mor\u001b[0m \u001b[0miterator\u001b[0m\u001b[1;33m:\u001b[0m\u001b[1;33m\u001b[0m\u001b[1;33m\u001b[0m\u001b[0m\n",
      "\u001b[1;32m~\\anaconda3\\lib\\site-packages\\pandas\\io\\parsers.py\u001b[0m in \u001b[0;36m__init__\u001b[1;34m(self, f, engine, **kwds)\u001b[0m\n\u001b[0;32m    878\u001b[0m             \u001b[0mself\u001b[0m\u001b[1;33m.\u001b[0m\u001b[0moptions\u001b[0m\u001b[1;33m[\u001b[0m\u001b[1;34m\"has_index_names\"\u001b[0m\u001b[1;33m]\u001b[0m \u001b[1;33m=\u001b[0m \u001b[0mkwds\u001b[0m\u001b[1;33m[\u001b[0m\u001b[1;34m\"has_index_names\"\u001b[0m\u001b[1;33m]\u001b[0m\u001b[1;33m\u001b[0m\u001b[1;33m\u001b[0m\u001b[0m\n\u001b[0;32m    879\u001b[0m \u001b[1;33m\u001b[0m\u001b[0m\n\u001b[1;32m--> 880\u001b[1;33m         \u001b[0mself\u001b[0m\u001b[1;33m.\u001b[0m\u001b[0m_make_engine\u001b[0m\u001b[1;33m(\u001b[0m\u001b[0mself\u001b[0m\u001b[1;33m.\u001b[0m\u001b[0mengine\u001b[0m\u001b[1;33m)\u001b[0m\u001b[1;33m\u001b[0m\u001b[1;33m\u001b[0m\u001b[0m\n\u001b[0m\u001b[0;32m    881\u001b[0m \u001b[1;33m\u001b[0m\u001b[0m\n\u001b[0;32m    882\u001b[0m     \u001b[1;32mdef\u001b[0m \u001b[0mclose\u001b[0m\u001b[1;33m(\u001b[0m\u001b[0mself\u001b[0m\u001b[1;33m)\u001b[0m\u001b[1;33m:\u001b[0m\u001b[1;33m\u001b[0m\u001b[1;33m\u001b[0m\u001b[0m\n",
      "\u001b[1;32m~\\anaconda3\\lib\\site-packages\\pandas\\io\\parsers.py\u001b[0m in \u001b[0;36m_make_engine\u001b[1;34m(self, engine)\u001b[0m\n\u001b[0;32m   1112\u001b[0m     \u001b[1;32mdef\u001b[0m \u001b[0m_make_engine\u001b[0m\u001b[1;33m(\u001b[0m\u001b[0mself\u001b[0m\u001b[1;33m,\u001b[0m \u001b[0mengine\u001b[0m\u001b[1;33m=\u001b[0m\u001b[1;34m\"c\"\u001b[0m\u001b[1;33m)\u001b[0m\u001b[1;33m:\u001b[0m\u001b[1;33m\u001b[0m\u001b[1;33m\u001b[0m\u001b[0m\n\u001b[0;32m   1113\u001b[0m         \u001b[1;32mif\u001b[0m \u001b[0mengine\u001b[0m \u001b[1;33m==\u001b[0m \u001b[1;34m\"c\"\u001b[0m\u001b[1;33m:\u001b[0m\u001b[1;33m\u001b[0m\u001b[1;33m\u001b[0m\u001b[0m\n\u001b[1;32m-> 1114\u001b[1;33m             \u001b[0mself\u001b[0m\u001b[1;33m.\u001b[0m\u001b[0m_engine\u001b[0m \u001b[1;33m=\u001b[0m \u001b[0mCParserWrapper\u001b[0m\u001b[1;33m(\u001b[0m\u001b[0mself\u001b[0m\u001b[1;33m.\u001b[0m\u001b[0mf\u001b[0m\u001b[1;33m,\u001b[0m \u001b[1;33m**\u001b[0m\u001b[0mself\u001b[0m\u001b[1;33m.\u001b[0m\u001b[0moptions\u001b[0m\u001b[1;33m)\u001b[0m\u001b[1;33m\u001b[0m\u001b[1;33m\u001b[0m\u001b[0m\n\u001b[0m\u001b[0;32m   1115\u001b[0m         \u001b[1;32melse\u001b[0m\u001b[1;33m:\u001b[0m\u001b[1;33m\u001b[0m\u001b[1;33m\u001b[0m\u001b[0m\n\u001b[0;32m   1116\u001b[0m             \u001b[1;32mif\u001b[0m \u001b[0mengine\u001b[0m \u001b[1;33m==\u001b[0m \u001b[1;34m\"python\"\u001b[0m\u001b[1;33m:\u001b[0m\u001b[1;33m\u001b[0m\u001b[1;33m\u001b[0m\u001b[0m\n",
      "\u001b[1;32m~\\anaconda3\\lib\\site-packages\\pandas\\io\\parsers.py\u001b[0m in \u001b[0;36m__init__\u001b[1;34m(self, src, **kwds)\u001b[0m\n\u001b[0;32m   1889\u001b[0m         \u001b[0mkwds\u001b[0m\u001b[1;33m[\u001b[0m\u001b[1;34m\"usecols\"\u001b[0m\u001b[1;33m]\u001b[0m \u001b[1;33m=\u001b[0m \u001b[0mself\u001b[0m\u001b[1;33m.\u001b[0m\u001b[0musecols\u001b[0m\u001b[1;33m\u001b[0m\u001b[1;33m\u001b[0m\u001b[0m\n\u001b[0;32m   1890\u001b[0m \u001b[1;33m\u001b[0m\u001b[0m\n\u001b[1;32m-> 1891\u001b[1;33m         \u001b[0mself\u001b[0m\u001b[1;33m.\u001b[0m\u001b[0m_reader\u001b[0m \u001b[1;33m=\u001b[0m \u001b[0mparsers\u001b[0m\u001b[1;33m.\u001b[0m\u001b[0mTextReader\u001b[0m\u001b[1;33m(\u001b[0m\u001b[0msrc\u001b[0m\u001b[1;33m,\u001b[0m \u001b[1;33m**\u001b[0m\u001b[0mkwds\u001b[0m\u001b[1;33m)\u001b[0m\u001b[1;33m\u001b[0m\u001b[1;33m\u001b[0m\u001b[0m\n\u001b[0m\u001b[0;32m   1892\u001b[0m         \u001b[0mself\u001b[0m\u001b[1;33m.\u001b[0m\u001b[0munnamed_cols\u001b[0m \u001b[1;33m=\u001b[0m \u001b[0mself\u001b[0m\u001b[1;33m.\u001b[0m\u001b[0m_reader\u001b[0m\u001b[1;33m.\u001b[0m\u001b[0munnamed_cols\u001b[0m\u001b[1;33m\u001b[0m\u001b[1;33m\u001b[0m\u001b[0m\n\u001b[0;32m   1893\u001b[0m \u001b[1;33m\u001b[0m\u001b[0m\n",
      "\u001b[1;32mpandas\\_libs\\parsers.pyx\u001b[0m in \u001b[0;36mpandas._libs.parsers.TextReader.__cinit__\u001b[1;34m()\u001b[0m\n",
      "\u001b[1;32mpandas\\_libs\\parsers.pyx\u001b[0m in \u001b[0;36mpandas._libs.parsers.TextReader._setup_parser_source\u001b[1;34m()\u001b[0m\n",
      "\u001b[1;31mFileNotFoundError\u001b[0m: [Errno 2] File winequality-white.csv does not exist: 'winequality-white.csv'"
     ]
    }
   ],
   "source": [
    "df = pd.read_csv('winequality-white.csv', delimiter=',')"
   ]
  },
  {
   "cell_type": "markdown",
   "metadata": {},
   "source": [
    "## References"
   ]
  },
  {
   "cell_type": "markdown",
   "metadata": {},
   "source": [
    "[1] Colab.research.google.com.2021. *Introducing Scikit-Learn.* [online] Available at <https://colab.research.google.com /github/jakevdp/PythonDataScienceHandbook>. [Accessed 20 October 2021]."
   ]
  },
  {
   "cell_type": "markdown",
   "metadata": {},
   "source": [
    "[2] Joly, A. 2012. *Scikit-Learn: Machine Learning in the Python Ecosystem.* [online] Available at <https:pdfs. semanticscholar.org/2013/03376169461677c506390ad53c57b0ff6eab.pdf> [Accessed 20 October 2021]."
   ]
  },
  {
   "cell_type": "markdown",
   "metadata": {},
   "source": [
    "[3] scikit-learn. 2021. *An Introduction to Machine Learning with scikit-learn.* [online] Available at: <https://scikit-learn.org/stable/tutorial/basic/tutorial.html> [Accessed 20 October 2021]."
   ]
  },
  {
   "cell_type": "markdown",
   "metadata": {},
   "source": [
    "[4] Pedregosa,F. 2021. *Scikit-learn: Machine Learning in Python.* [online] ResearchGate. Available at: <https://www.researchgate.net/publication/51969319_Scikit-learn_Machine_Learning_in_Python> [Accessed 20 October 2021]."
   ]
  },
  {
   "cell_type": "markdown",
   "metadata": {},
   "source": [
    "[5] Corrado, C., 2021. *Scikit Learn: Machine Learning in Python.* [online] Available at: <https://pdfs.semanticscholar.org/168f/28ac3c8c7ea63bf7ed25f2288e8b67e2fe74.pdf> [Accessed 20 October 2021]."
   ]
  },
  {
   "cell_type": "markdown",
   "metadata": {},
   "source": [
    "[6] Brownlee, J., 2016. *Introduction to Machine Learning with scikit-learn.* [online] Machine Learning Mastery. Available at: <https://machinelearningmastery.com/introduction-machine-learning-scikit-learn/> [Accessed 20 October 2021]."
   ]
  },
  {
   "cell_type": "markdown",
   "metadata": {},
   "source": [
    "[7] Intellipaat Blog. 2021. Scikit - *Learn Cheat Sheet: Python Machine Learning.* [online] Available at: <https://intellipaat.com/blog/tutorial/python-tutorial/scikit-learn-cheat-sheet/> [Accessed 20 October 2021]."
   ]
  },
  {
   "cell_type": "markdown",
   "metadata": {},
   "source": [
    "[8] Varoquaux, G. and Louppe, L., 2015. Scikit-learn: Machine Learning Without Learning the Machinery. [online] Researchgate. Available at: <https://www.researchgate.net/publication/316029838_Scikit-learn_Machine_Learning_Without_Learning_the_Machinery> [Accessed 20 October 2021]."
   ]
  },
  {
   "cell_type": "markdown",
   "metadata": {},
   "source": [
    "[9] Turgay, G., 2020. *Comparing Classification Models for Wine Quality Prediction.* [online] Medium. Available at: <https://towardsdatascience.com/comparing-classification-models-for-wine-quality-prediction-6c5f26669a4f> [Accessed 20 October 2021]."
   ]
  },
  {
   "cell_type": "markdown",
   "metadata": {},
   "source": [
    "[10] Azeem, A., 2020. *Easy KNN algorithm using scikit-learn.* [online] Medium. Available at: <https://medium.com/analytics-vidhya/easy-knn-algorithm-using-scikit-learn-7f6e256c9453> [Accessed 20 October 2021]."
   ]
  },
  {
   "cell_type": "markdown",
   "metadata": {},
   "source": [
    "[11] ActiveState. 2021. *What is Scikit-Learn In Python? - ActiveState.* [online] Available at: <https://www.activestate.com/resources/quick-reads/what-is-scikit-learn-in-python/> [Accessed 20 October 2021]."
   ]
  },
  {
   "cell_type": "markdown",
   "metadata": {},
   "source": [
    "[12] Rojo, O., 2020. *Machine Learning Algorithns With Scikit-Learn.* [online] Medium. Available at: <https://medium.com/swlh/machine-learning-algorithns-with-scikit-learn-ec6181365ba> [Accessed 20 October 2021]."
   ]
  },
  {
   "cell_type": "markdown",
   "metadata": {},
   "source": [
    "[13] Robinson, S., 2018. *Decision Trees in Python with Scikit-Learn.* [online] Stack Abuse. Available at: <https://stackabuse.com/decision-trees-in-python-with-scikit-learn/> [Accessed 20 October 2021]."
   ]
  },
  {
   "cell_type": "markdown",
   "metadata": {},
   "source": [
    "[14] Sarr, M., 2021. *How to use Scikit learn in a Machine Learning Project?* [Tutorial for Beginner]. [online] Malick Sarr. Available at: <https://www.malicksarr.com/how-to-use-scikit-learn-in-a-machine-learning-project-for-beginner-sklearn-tutorial/> [Accessed 20 October 2021]."
   ]
  },
  {
   "cell_type": "markdown",
   "metadata": {},
   "source": [
    "[15] Vadapalli, P., 2021. Scikit-learn in Python: Features, Prerequisites, Pros & Cons | upGrad blog. [online] upGrad blog. Available at: <https://www.upgrad.com/blog/scikit-learn-in-python/> [Accessed 27 October 2021]."
   ]
  }
 ],
 "metadata": {
  "kernelspec": {
   "display_name": "Python 3",
   "language": "python",
   "name": "python3"
  },
  "language_info": {
   "codemirror_mode": {
    "name": "ipython",
    "version": 3
   },
   "file_extension": ".py",
   "mimetype": "text/x-python",
   "name": "python",
   "nbconvert_exporter": "python",
   "pygments_lexer": "ipython3",
   "version": "3.8.3"
  },
  "toc": {
   "base_numbering": 1,
   "nav_menu": {},
   "number_sections": false,
   "sideBar": true,
   "skip_h1_title": false,
   "title_cell": "Table of Contents",
   "title_sidebar": "Contents",
   "toc_cell": false,
   "toc_position": {},
   "toc_section_display": true,
   "toc_window_display": false
  }
 },
 "nbformat": 4,
 "nbformat_minor": 4
}
